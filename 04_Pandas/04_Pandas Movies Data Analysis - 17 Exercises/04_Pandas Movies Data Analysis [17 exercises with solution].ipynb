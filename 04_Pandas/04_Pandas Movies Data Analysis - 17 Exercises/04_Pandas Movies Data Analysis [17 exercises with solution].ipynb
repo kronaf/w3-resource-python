{
 "cells": [
  {
   "cell_type": "markdown",
   "metadata": {},
   "source": [
    "# <center> Pandas Movies Data Analysis [17 exercises with solution]</center>"
   ]
  },
  {
   "cell_type": "markdown",
   "metadata": {},
   "source": [
    "**Problems List [learned new, see again]-**\n",
    "- *Problem 6: Second Solution*\n",
    "- Problem 11\n",
    "- *Problem 15*"
   ]
  },
  {
   "cell_type": "code",
   "execution_count": 2,
   "metadata": {},
   "outputs": [],
   "source": [
    "# Importing libraries:\n",
    "\n",
    "import numpy as np\n",
    "import pandas as pd"
   ]
  },
  {
   "cell_type": "code",
   "execution_count": 3,
   "metadata": {
    "_cell_guid": "79c7e3d0-c299-4dcb-8224-4455121ee9b0",
    "_uuid": "d629ff2d2480ee46fbb7e2d37f6b5fab8052498a"
   },
   "outputs": [],
   "source": [
    "# Importing file:\n",
    "\n",
    "movies_filepath = 'movies_metadata.csv'\n",
    "movies_mdata = pd.read_csv(movies_filepath)"
   ]
  },
  {
   "cell_type": "markdown",
   "metadata": {},
   "source": [
    "## 1. Write a Python Pandas program to get the columns of the DataFrame (movies_metadata.csv file)."
   ]
  },
  {
   "cell_type": "code",
   "execution_count": 4,
   "metadata": {},
   "outputs": [
    {
     "data": {
      "text/plain": [
       "Index(['adult', 'belongs_to_collection', 'budget', 'genres', 'homepage', 'id',\n",
       "       'imdb_id', 'original_language', 'original_title', 'overview',\n",
       "       'popularity', 'poster_path', 'production_companies',\n",
       "       'production_countries', 'release_date', 'revenue', 'runtime',\n",
       "       'spoken_languages', 'status', 'tagline', 'title', 'video',\n",
       "       'vote_average', 'vote_count'],\n",
       "      dtype='object')"
      ]
     },
     "execution_count": 4,
     "metadata": {},
     "output_type": "execute_result"
    }
   ],
   "source": [
    "movies_mdata.columns"
   ]
  },
  {
   "cell_type": "markdown",
   "metadata": {},
   "source": [
    "## 2. Write a Pandas program to get the information of the DataFrame (movies_metadata.csv file)including data types and memory usage."
   ]
  },
  {
   "cell_type": "code",
   "execution_count": 5,
   "metadata": {},
   "outputs": [
    {
     "name": "stdout",
     "output_type": "stream",
     "text": [
      "<class 'pandas.core.frame.DataFrame'>\n",
      "RangeIndex: 50 entries, 0 to 49\n",
      "Data columns (total 24 columns):\n",
      " #   Column                 Non-Null Count  Dtype  \n",
      "---  ------                 --------------  -----  \n",
      " 0   adult                  50 non-null     bool   \n",
      " 1   belongs_to_collection  10 non-null     object \n",
      " 2   budget                 50 non-null     int64  \n",
      " 3   genres                 50 non-null     object \n",
      " 4   homepage               5 non-null      object \n",
      " 5   id                     50 non-null     int64  \n",
      " 6   imdb_id                50 non-null     object \n",
      " 7   original_language      50 non-null     object \n",
      " 8   original_title         50 non-null     object \n",
      " 9   overview               49 non-null     object \n",
      " 10  popularity             50 non-null     float64\n",
      " 11  poster_path            50 non-null     object \n",
      " 12  production_companies   50 non-null     object \n",
      " 13  production_countries   50 non-null     object \n",
      " 14  release_date           50 non-null     object \n",
      " 15  revenue                50 non-null     int64  \n",
      " 16  runtime                50 non-null     float64\n",
      " 17  spoken_languages       50 non-null     object \n",
      " 18  status                 50 non-null     object \n",
      " 19  tagline                41 non-null     object \n",
      " 20  title                  50 non-null     object \n",
      " 21  video                  50 non-null     bool   \n",
      " 22  vote_average           50 non-null     float64\n",
      " 23  vote_count             50 non-null     int64  \n",
      "dtypes: bool(2), float64(3), int64(4), object(15)\n",
      "memory usage: 8.8+ KB\n"
     ]
    }
   ],
   "source": [
    "movies_mdata.info()"
   ]
  },
  {
   "cell_type": "markdown",
   "metadata": {},
   "source": [
    "## 3. Write a Pandas program to get the details of the thrid movie of the DataFrame (movies_metadata.csv file). "
   ]
  },
  {
   "cell_type": "code",
   "execution_count": 6,
   "metadata": {},
   "outputs": [
    {
     "name": "stdout",
     "output_type": "stream",
     "text": [
      "Details of third movie:\n",
      "\n",
      "adult                                                                False\n",
      "belongs_to_collection    {'id': 119050, 'name': 'Grumpy Old Men Collect...\n",
      "budget                                                                   0\n",
      "genres                   [{'id': 10749, 'name': 'Romance'}, {'id': 35, ...\n",
      "homepage                                                               NaN\n",
      "id                                                                   15602\n",
      "imdb_id                                                          tt0113228\n",
      "original_language                                                       en\n",
      "original_title                                            Grumpier Old Men\n",
      "overview                 A family wedding reignites the ancient feud be...\n",
      "popularity                                                         11.7129\n",
      "poster_path                               /6ksm1sjKMFLbO7UY2i6G1ju9SML.jpg\n",
      "production_companies     [{'name': 'Warner Bros.', 'id': 6194}, {'name'...\n",
      "production_countries     [{'iso_3166_1': 'US', 'name': 'United States o...\n",
      "release_date                                                    1995-12-22\n",
      "revenue                                                                  0\n",
      "runtime                                                              101.0\n",
      "spoken_languages                  [{'iso_639_1': 'en', 'name': 'English'}]\n",
      "status                                                            Released\n",
      "tagline                  Still Yelling. Still Fighting. Still Ready for...\n",
      "title                                                     Grumpier Old Men\n",
      "video                                                                False\n",
      "vote_average                                                           6.5\n",
      "vote_count                                                              92\n",
      "Name: 2, dtype: object\n"
     ]
    }
   ],
   "source": [
    "print('Details of third movie:\\n')\n",
    "print(movies_mdata.iloc[2])"
   ]
  },
  {
   "cell_type": "markdown",
   "metadata": {},
   "source": [
    "## 4. Write a Pandas program to count the number of rows and columns of the DataFrame (movies_metadata.csv file)."
   ]
  },
  {
   "cell_type": "code",
   "execution_count": 7,
   "metadata": {},
   "outputs": [
    {
     "name": "stdout",
     "output_type": "stream",
     "text": [
      "Number of rows in the dataframe: 50\n",
      "Number of columns in the dataframe: 24\n"
     ]
    }
   ],
   "source": [
    "print('Number of rows in the dataframe: {}'.format(movies_mdata.shape[0]))\n",
    "print('Number of columns in the dataframe: {}'.format(movies_mdata.shape[1]))"
   ]
  },
  {
   "cell_type": "markdown",
   "metadata": {},
   "source": [
    "## 5. Write a Pandas program to get the details of the columns title and genres of the DataFrame."
   ]
  },
  {
   "cell_type": "code",
   "execution_count": 8,
   "metadata": {},
   "outputs": [
    {
     "data": {
      "text/html": [
       "<div>\n",
       "<style scoped>\n",
       "    .dataframe tbody tr th:only-of-type {\n",
       "        vertical-align: middle;\n",
       "    }\n",
       "\n",
       "    .dataframe tbody tr th {\n",
       "        vertical-align: top;\n",
       "    }\n",
       "\n",
       "    .dataframe thead th {\n",
       "        text-align: right;\n",
       "    }\n",
       "</style>\n",
       "<table border=\"1\" class=\"dataframe\">\n",
       "  <thead>\n",
       "    <tr style=\"text-align: right;\">\n",
       "      <th></th>\n",
       "      <th>title</th>\n",
       "      <th>genres</th>\n",
       "    </tr>\n",
       "  </thead>\n",
       "  <tbody>\n",
       "    <tr>\n",
       "      <th>0</th>\n",
       "      <td>Toy Story</td>\n",
       "      <td>[{'id': 16, 'name': 'Animation'}, {'id': 35, '...</td>\n",
       "    </tr>\n",
       "    <tr>\n",
       "      <th>1</th>\n",
       "      <td>Jumanji</td>\n",
       "      <td>[{'id': 12, 'name': 'Adventure'}, {'id': 14, '...</td>\n",
       "    </tr>\n",
       "    <tr>\n",
       "      <th>2</th>\n",
       "      <td>Grumpier Old Men</td>\n",
       "      <td>[{'id': 10749, 'name': 'Romance'}, {'id': 35, ...</td>\n",
       "    </tr>\n",
       "    <tr>\n",
       "      <th>3</th>\n",
       "      <td>Waiting to Exhale</td>\n",
       "      <td>[{'id': 35, 'name': 'Comedy'}, {'id': 18, 'nam...</td>\n",
       "    </tr>\n",
       "    <tr>\n",
       "      <th>4</th>\n",
       "      <td>Father of the Bride Part II</td>\n",
       "      <td>[{'id': 35, 'name': 'Comedy'}]</td>\n",
       "    </tr>\n",
       "    <tr>\n",
       "      <th>5</th>\n",
       "      <td>Heat</td>\n",
       "      <td>[{'id': 28, 'name': 'Action'}, {'id': 80, 'nam...</td>\n",
       "    </tr>\n",
       "    <tr>\n",
       "      <th>6</th>\n",
       "      <td>Sabrina</td>\n",
       "      <td>[{'id': 35, 'name': 'Comedy'}, {'id': 10749, '...</td>\n",
       "    </tr>\n",
       "    <tr>\n",
       "      <th>7</th>\n",
       "      <td>Tom and Huck</td>\n",
       "      <td>[{'id': 28, 'name': 'Action'}, {'id': 12, 'nam...</td>\n",
       "    </tr>\n",
       "    <tr>\n",
       "      <th>8</th>\n",
       "      <td>Sudden Death</td>\n",
       "      <td>[{'id': 28, 'name': 'Action'}, {'id': 12, 'nam...</td>\n",
       "    </tr>\n",
       "    <tr>\n",
       "      <th>9</th>\n",
       "      <td>GoldenEye</td>\n",
       "      <td>[{'id': 12, 'name': 'Adventure'}, {'id': 28, '...</td>\n",
       "    </tr>\n",
       "    <tr>\n",
       "      <th>10</th>\n",
       "      <td>The American President</td>\n",
       "      <td>[{'id': 35, 'name': 'Comedy'}, {'id': 18, 'nam...</td>\n",
       "    </tr>\n",
       "    <tr>\n",
       "      <th>11</th>\n",
       "      <td>Dracula: Dead and Loving It</td>\n",
       "      <td>[{'id': 35, 'name': 'Comedy'}, {'id': 27, 'nam...</td>\n",
       "    </tr>\n",
       "    <tr>\n",
       "      <th>12</th>\n",
       "      <td>Balto</td>\n",
       "      <td>[{'id': 10751, 'name': 'Family'}, {'id': 16, '...</td>\n",
       "    </tr>\n",
       "    <tr>\n",
       "      <th>13</th>\n",
       "      <td>Nixon</td>\n",
       "      <td>[{'id': 36, 'name': 'History'}, {'id': 18, 'na...</td>\n",
       "    </tr>\n",
       "    <tr>\n",
       "      <th>14</th>\n",
       "      <td>Cutthroat Island</td>\n",
       "      <td>[{'id': 28, 'name': 'Action'}, {'id': 12, 'nam...</td>\n",
       "    </tr>\n",
       "    <tr>\n",
       "      <th>15</th>\n",
       "      <td>Casino</td>\n",
       "      <td>[{'id': 18, 'name': 'Drama'}, {'id': 80, 'name...</td>\n",
       "    </tr>\n",
       "    <tr>\n",
       "      <th>16</th>\n",
       "      <td>Sense and Sensibility</td>\n",
       "      <td>[{'id': 18, 'name': 'Drama'}, {'id': 10749, 'n...</td>\n",
       "    </tr>\n",
       "    <tr>\n",
       "      <th>17</th>\n",
       "      <td>Four Rooms</td>\n",
       "      <td>[{'id': 80, 'name': 'Crime'}, {'id': 35, 'name...</td>\n",
       "    </tr>\n",
       "    <tr>\n",
       "      <th>18</th>\n",
       "      <td>Ace Ventura: When Nature Calls</td>\n",
       "      <td>[{'id': 80, 'name': 'Crime'}, {'id': 35, 'name...</td>\n",
       "    </tr>\n",
       "    <tr>\n",
       "      <th>19</th>\n",
       "      <td>Money Train</td>\n",
       "      <td>[{'id': 28, 'name': 'Action'}, {'id': 35, 'nam...</td>\n",
       "    </tr>\n",
       "    <tr>\n",
       "      <th>20</th>\n",
       "      <td>Get Shorty</td>\n",
       "      <td>[{'id': 35, 'name': 'Comedy'}, {'id': 53, 'nam...</td>\n",
       "    </tr>\n",
       "    <tr>\n",
       "      <th>21</th>\n",
       "      <td>Copycat</td>\n",
       "      <td>[{'id': 18, 'name': 'Drama'}, {'id': 53, 'name...</td>\n",
       "    </tr>\n",
       "    <tr>\n",
       "      <th>22</th>\n",
       "      <td>Assassins</td>\n",
       "      <td>[{'id': 28, 'name': 'Action'}, {'id': 12, 'nam...</td>\n",
       "    </tr>\n",
       "    <tr>\n",
       "      <th>23</th>\n",
       "      <td>Powder</td>\n",
       "      <td>[{'id': 18, 'name': 'Drama'}, {'id': 14, 'name...</td>\n",
       "    </tr>\n",
       "    <tr>\n",
       "      <th>24</th>\n",
       "      <td>Leaving Las Vegas</td>\n",
       "      <td>[{'id': 18, 'name': 'Drama'}, {'id': 10749, 'n...</td>\n",
       "    </tr>\n",
       "    <tr>\n",
       "      <th>25</th>\n",
       "      <td>Othello</td>\n",
       "      <td>[{'id': 18, 'name': 'Drama'}]</td>\n",
       "    </tr>\n",
       "    <tr>\n",
       "      <th>26</th>\n",
       "      <td>Now and Then</td>\n",
       "      <td>[{'id': 35, 'name': 'Comedy'}, {'id': 18, 'nam...</td>\n",
       "    </tr>\n",
       "    <tr>\n",
       "      <th>27</th>\n",
       "      <td>Persuasion</td>\n",
       "      <td>[{'id': 18, 'name': 'Drama'}, {'id': 10749, 'n...</td>\n",
       "    </tr>\n",
       "    <tr>\n",
       "      <th>28</th>\n",
       "      <td>The City of Lost Children</td>\n",
       "      <td>[{'id': 14, 'name': 'Fantasy'}, {'id': 878, 'n...</td>\n",
       "    </tr>\n",
       "    <tr>\n",
       "      <th>29</th>\n",
       "      <td>Shanghai Triad</td>\n",
       "      <td>[{'id': 18, 'name': 'Drama'}, {'id': 80, 'name...</td>\n",
       "    </tr>\n",
       "    <tr>\n",
       "      <th>30</th>\n",
       "      <td>Dangerous Minds</td>\n",
       "      <td>[{'id': 18, 'name': 'Drama'}, {'id': 80, 'name...</td>\n",
       "    </tr>\n",
       "    <tr>\n",
       "      <th>31</th>\n",
       "      <td>Twelve Monkeys</td>\n",
       "      <td>[{'id': 878, 'name': 'Science Fiction'}, {'id'...</td>\n",
       "    </tr>\n",
       "    <tr>\n",
       "      <th>32</th>\n",
       "      <td>Wings of Courage</td>\n",
       "      <td>[{'id': 10749, 'name': 'Romance'}, {'id': 12, ...</td>\n",
       "    </tr>\n",
       "    <tr>\n",
       "      <th>33</th>\n",
       "      <td>Babe</td>\n",
       "      <td>[{'id': 14, 'name': 'Fantasy'}, {'id': 18, 'na...</td>\n",
       "    </tr>\n",
       "    <tr>\n",
       "      <th>34</th>\n",
       "      <td>Carrington</td>\n",
       "      <td>[{'id': 36, 'name': 'History'}, {'id': 18, 'na...</td>\n",
       "    </tr>\n",
       "    <tr>\n",
       "      <th>35</th>\n",
       "      <td>Dead Man Walking</td>\n",
       "      <td>[{'id': 18, 'name': 'Drama'}]</td>\n",
       "    </tr>\n",
       "    <tr>\n",
       "      <th>36</th>\n",
       "      <td>Across the Sea of Time</td>\n",
       "      <td>[{'id': 12, 'name': 'Adventure'}, {'id': 36, '...</td>\n",
       "    </tr>\n",
       "    <tr>\n",
       "      <th>37</th>\n",
       "      <td>It Takes Two</td>\n",
       "      <td>[{'id': 35, 'name': 'Comedy'}, {'id': 10751, '...</td>\n",
       "    </tr>\n",
       "    <tr>\n",
       "      <th>38</th>\n",
       "      <td>Clueless</td>\n",
       "      <td>[{'id': 35, 'name': 'Comedy'}, {'id': 18, 'nam...</td>\n",
       "    </tr>\n",
       "    <tr>\n",
       "      <th>39</th>\n",
       "      <td>Cry, the Beloved Country</td>\n",
       "      <td>[{'id': 18, 'name': 'Drama'}]</td>\n",
       "    </tr>\n",
       "    <tr>\n",
       "      <th>40</th>\n",
       "      <td>Richard III</td>\n",
       "      <td>[{'id': 18, 'name': 'Drama'}, {'id': 10752, 'n...</td>\n",
       "    </tr>\n",
       "    <tr>\n",
       "      <th>41</th>\n",
       "      <td>Dead Presidents</td>\n",
       "      <td>[{'id': 28, 'name': 'Action'}, {'id': 80, 'nam...</td>\n",
       "    </tr>\n",
       "    <tr>\n",
       "      <th>42</th>\n",
       "      <td>Restoration</td>\n",
       "      <td>[{'id': 18, 'name': 'Drama'}, {'id': 10749, 'n...</td>\n",
       "    </tr>\n",
       "    <tr>\n",
       "      <th>43</th>\n",
       "      <td>Mortal Kombat</td>\n",
       "      <td>[{'id': 28, 'name': 'Action'}, {'id': 14, 'nam...</td>\n",
       "    </tr>\n",
       "    <tr>\n",
       "      <th>44</th>\n",
       "      <td>To Die For</td>\n",
       "      <td>[{'id': 14, 'name': 'Fantasy'}, {'id': 18, 'na...</td>\n",
       "    </tr>\n",
       "    <tr>\n",
       "      <th>45</th>\n",
       "      <td>How To Make An American Quilt</td>\n",
       "      <td>[{'id': 18, 'name': 'Drama'}, {'id': 10749, 'n...</td>\n",
       "    </tr>\n",
       "    <tr>\n",
       "      <th>46</th>\n",
       "      <td>Se7en</td>\n",
       "      <td>[{'id': 80, 'name': 'Crime'}, {'id': 9648, 'na...</td>\n",
       "    </tr>\n",
       "    <tr>\n",
       "      <th>47</th>\n",
       "      <td>Pocahontas</td>\n",
       "      <td>[{'id': 12, 'name': 'Adventure'}, {'id': 16, '...</td>\n",
       "    </tr>\n",
       "    <tr>\n",
       "      <th>48</th>\n",
       "      <td>When Night Is Falling</td>\n",
       "      <td>[{'id': 18, 'name': 'Drama'}, {'id': 10749, 'n...</td>\n",
       "    </tr>\n",
       "    <tr>\n",
       "      <th>49</th>\n",
       "      <td>The Usual Suspects</td>\n",
       "      <td>[{'id': 18, 'name': 'Drama'}, {'id': 80, 'name...</td>\n",
       "    </tr>\n",
       "  </tbody>\n",
       "</table>\n",
       "</div>"
      ],
      "text/plain": [
       "                             title   \n",
       "0                        Toy Story  \\\n",
       "1                          Jumanji   \n",
       "2                 Grumpier Old Men   \n",
       "3                Waiting to Exhale   \n",
       "4      Father of the Bride Part II   \n",
       "5                             Heat   \n",
       "6                          Sabrina   \n",
       "7                     Tom and Huck   \n",
       "8                     Sudden Death   \n",
       "9                        GoldenEye   \n",
       "10          The American President   \n",
       "11     Dracula: Dead and Loving It   \n",
       "12                           Balto   \n",
       "13                           Nixon   \n",
       "14                Cutthroat Island   \n",
       "15                          Casino   \n",
       "16           Sense and Sensibility   \n",
       "17                      Four Rooms   \n",
       "18  Ace Ventura: When Nature Calls   \n",
       "19                     Money Train   \n",
       "20                      Get Shorty   \n",
       "21                         Copycat   \n",
       "22                       Assassins   \n",
       "23                          Powder   \n",
       "24               Leaving Las Vegas   \n",
       "25                         Othello   \n",
       "26                    Now and Then   \n",
       "27                      Persuasion   \n",
       "28       The City of Lost Children   \n",
       "29                  Shanghai Triad   \n",
       "30                 Dangerous Minds   \n",
       "31                  Twelve Monkeys   \n",
       "32                Wings of Courage   \n",
       "33                            Babe   \n",
       "34                      Carrington   \n",
       "35                Dead Man Walking   \n",
       "36          Across the Sea of Time   \n",
       "37                    It Takes Two   \n",
       "38                        Clueless   \n",
       "39        Cry, the Beloved Country   \n",
       "40                     Richard III   \n",
       "41                 Dead Presidents   \n",
       "42                     Restoration   \n",
       "43                   Mortal Kombat   \n",
       "44                      To Die For   \n",
       "45   How To Make An American Quilt   \n",
       "46                           Se7en   \n",
       "47                      Pocahontas   \n",
       "48           When Night Is Falling   \n",
       "49              The Usual Suspects   \n",
       "\n",
       "                                               genres  \n",
       "0   [{'id': 16, 'name': 'Animation'}, {'id': 35, '...  \n",
       "1   [{'id': 12, 'name': 'Adventure'}, {'id': 14, '...  \n",
       "2   [{'id': 10749, 'name': 'Romance'}, {'id': 35, ...  \n",
       "3   [{'id': 35, 'name': 'Comedy'}, {'id': 18, 'nam...  \n",
       "4                      [{'id': 35, 'name': 'Comedy'}]  \n",
       "5   [{'id': 28, 'name': 'Action'}, {'id': 80, 'nam...  \n",
       "6   [{'id': 35, 'name': 'Comedy'}, {'id': 10749, '...  \n",
       "7   [{'id': 28, 'name': 'Action'}, {'id': 12, 'nam...  \n",
       "8   [{'id': 28, 'name': 'Action'}, {'id': 12, 'nam...  \n",
       "9   [{'id': 12, 'name': 'Adventure'}, {'id': 28, '...  \n",
       "10  [{'id': 35, 'name': 'Comedy'}, {'id': 18, 'nam...  \n",
       "11  [{'id': 35, 'name': 'Comedy'}, {'id': 27, 'nam...  \n",
       "12  [{'id': 10751, 'name': 'Family'}, {'id': 16, '...  \n",
       "13  [{'id': 36, 'name': 'History'}, {'id': 18, 'na...  \n",
       "14  [{'id': 28, 'name': 'Action'}, {'id': 12, 'nam...  \n",
       "15  [{'id': 18, 'name': 'Drama'}, {'id': 80, 'name...  \n",
       "16  [{'id': 18, 'name': 'Drama'}, {'id': 10749, 'n...  \n",
       "17  [{'id': 80, 'name': 'Crime'}, {'id': 35, 'name...  \n",
       "18  [{'id': 80, 'name': 'Crime'}, {'id': 35, 'name...  \n",
       "19  [{'id': 28, 'name': 'Action'}, {'id': 35, 'nam...  \n",
       "20  [{'id': 35, 'name': 'Comedy'}, {'id': 53, 'nam...  \n",
       "21  [{'id': 18, 'name': 'Drama'}, {'id': 53, 'name...  \n",
       "22  [{'id': 28, 'name': 'Action'}, {'id': 12, 'nam...  \n",
       "23  [{'id': 18, 'name': 'Drama'}, {'id': 14, 'name...  \n",
       "24  [{'id': 18, 'name': 'Drama'}, {'id': 10749, 'n...  \n",
       "25                      [{'id': 18, 'name': 'Drama'}]  \n",
       "26  [{'id': 35, 'name': 'Comedy'}, {'id': 18, 'nam...  \n",
       "27  [{'id': 18, 'name': 'Drama'}, {'id': 10749, 'n...  \n",
       "28  [{'id': 14, 'name': 'Fantasy'}, {'id': 878, 'n...  \n",
       "29  [{'id': 18, 'name': 'Drama'}, {'id': 80, 'name...  \n",
       "30  [{'id': 18, 'name': 'Drama'}, {'id': 80, 'name...  \n",
       "31  [{'id': 878, 'name': 'Science Fiction'}, {'id'...  \n",
       "32  [{'id': 10749, 'name': 'Romance'}, {'id': 12, ...  \n",
       "33  [{'id': 14, 'name': 'Fantasy'}, {'id': 18, 'na...  \n",
       "34  [{'id': 36, 'name': 'History'}, {'id': 18, 'na...  \n",
       "35                      [{'id': 18, 'name': 'Drama'}]  \n",
       "36  [{'id': 12, 'name': 'Adventure'}, {'id': 36, '...  \n",
       "37  [{'id': 35, 'name': 'Comedy'}, {'id': 10751, '...  \n",
       "38  [{'id': 35, 'name': 'Comedy'}, {'id': 18, 'nam...  \n",
       "39                      [{'id': 18, 'name': 'Drama'}]  \n",
       "40  [{'id': 18, 'name': 'Drama'}, {'id': 10752, 'n...  \n",
       "41  [{'id': 28, 'name': 'Action'}, {'id': 80, 'nam...  \n",
       "42  [{'id': 18, 'name': 'Drama'}, {'id': 10749, 'n...  \n",
       "43  [{'id': 28, 'name': 'Action'}, {'id': 14, 'nam...  \n",
       "44  [{'id': 14, 'name': 'Fantasy'}, {'id': 18, 'na...  \n",
       "45  [{'id': 18, 'name': 'Drama'}, {'id': 10749, 'n...  \n",
       "46  [{'id': 80, 'name': 'Crime'}, {'id': 9648, 'na...  \n",
       "47  [{'id': 12, 'name': 'Adventure'}, {'id': 16, '...  \n",
       "48  [{'id': 18, 'name': 'Drama'}, {'id': 10749, 'n...  \n",
       "49  [{'id': 18, 'name': 'Drama'}, {'id': 80, 'name...  "
      ]
     },
     "execution_count": 8,
     "metadata": {},
     "output_type": "execute_result"
    }
   ],
   "source": [
    "movies_mdata[['title', 'genres']]"
   ]
  },
  {
   "cell_type": "markdown",
   "metadata": {},
   "source": [
    "## 6. Write a Pandas program to get the details of the movie with title 'Grumpier Old Men'."
   ]
  },
  {
   "cell_type": "code",
   "execution_count": null,
   "metadata": {},
   "outputs": [],
   "source": []
  },
  {
   "cell_type": "markdown",
   "metadata": {},
   "source": [
    "## 7. Write a Pandas program to get the details of  fifth movie of the DataFrame. "
   ]
  },
  {
   "cell_type": "markdown",
   "metadata": {},
   "source": [
    "## 8. Write a Pandas program to create a smaller dataframe with a subset of all features. "
   ]
  },
  {
   "cell_type": "markdown",
   "metadata": {},
   "source": [
    "## 9. Write a Pandas program to display the first 10 rows of the DataFrame."
   ]
  },
  {
   "cell_type": "markdown",
   "metadata": {},
   "source": [
    "## 10. Write a Pandas program to sort the DataFrame based on release_date. "
   ]
  },
  {
   "cell_type": "markdown",
   "metadata": {},
   "source": [
    "## 11. Write a Pandas program to access those movies, released after 1995-01-01."
   ]
  },
  {
   "cell_type": "markdown",
   "metadata": {},
   "source": [
    "## 12. Write a Pandas program to sort movies on runtime in descending order."
   ]
  },
  {
   "cell_type": "markdown",
   "metadata": {},
   "source": [
    "## 13. Write a Pandas program to get those movies whose revenue more than 2 million and spent less than 1 million."
   ]
  },
  {
   "cell_type": "markdown",
   "metadata": {},
   "source": [
    "## 14. Write a Pandas program to get the longest runtime and shortest runtime. "
   ]
  },
  {
   "cell_type": "markdown",
   "metadata": {},
   "source": [
    "## 15. Write a Pandas program to compute the calculate the number of votes garnered by the 70% movie."
   ]
  },
  {
   "cell_type": "markdown",
   "metadata": {},
   "source": [
    "## 16. Write a Pandas program to display the movies (title, runtime) longer than 30 minutes and shorter than 360 minutes."
   ]
  },
  {
   "cell_type": "markdown",
   "metadata": {},
   "source": [
    "## 17. Write a Pandas program to display the movies (title, number of votes) that received specified number of votes."
   ]
  },
  {
   "cell_type": "markdown",
   "metadata": {},
   "source": [
    "#### Problem's Source: [https://www.w3resource.com/python-exercises/pandas/movies/index.php](https://www.w3resource.com/python-exercises/pandas/movies/index.php)"
   ]
  }
 ],
 "metadata": {
  "kernelspec": {
   "display_name": "Python 3",
   "language": "python",
   "name": "python3"
  },
  "language_info": {
   "codemirror_mode": {
    "name": "ipython",
    "version": 3
   },
   "file_extension": ".py",
   "mimetype": "text/x-python",
   "name": "python",
   "nbconvert_exporter": "python",
   "pygments_lexer": "ipython3",
   "version": "3.10.11"
  }
 },
 "nbformat": 4,
 "nbformat_minor": 1
}
